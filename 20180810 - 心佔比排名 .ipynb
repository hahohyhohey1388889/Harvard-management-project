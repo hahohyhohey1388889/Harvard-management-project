{
 "cells": [
  {
   "cell_type": "code",
   "execution_count": 1,
   "metadata": {},
   "outputs": [],
   "source": [
    "import warnings\n",
    "warnings.filterwarnings('ignore')\n",
    "import numpy as np\n",
    "import pandas as pd"
   ]
  },
  {
   "cell_type": "markdown",
   "metadata": {},
   "source": [
    "# 載入檔案"
   ]
  },
  {
   "cell_type": "code",
   "execution_count": 3,
   "metadata": {},
   "outputs": [],
   "source": [
    "dataframe1 = pd.read_csv('001_win.csv')\n",
    "dataframe2 = pd.read_csv('002_win.csv')\n",
    "dataframe3 = pd.read_csv('003_win.csv')\n",
    "dataframe = pd.concat([dataframe1, dataframe2, dataframe3], ignore_index= True , axis= 0 ) \n",
    "fi = pd.read_csv('finaaal.csv')\n",
    "item = pd.read_csv('item.csv')"
   ]
  },
  {
   "cell_type": "code",
   "execution_count": 4,
   "metadata": {},
   "outputs": [],
   "source": [
    "dataframe = pd.read_csv('003_win.csv')\n",
    "item = pd.read_csv('item.csv')"
   ]
  },
  {
   "cell_type": "code",
   "execution_count": 5,
   "metadata": {},
   "outputs": [
    {
     "data": {
      "text/plain": [
       "(220, 101)"
      ]
     },
     "execution_count": 5,
     "metadata": {},
     "output_type": "execute_result"
    }
   ],
   "source": [
    "df1 = dataframe.drop(['NO','性別','年齡' ,'月收入' ,'居住地' ,'職業', '學歷', '姓名', '地址', '電話'], axis = 1)\n",
    "df_q = df1.iloc[:, list(range(0,202,2))]  \n",
    "df_q.shape"
   ]
  },
  {
   "cell_type": "code",
   "execution_count": 6,
   "metadata": {},
   "outputs": [],
   "source": [
    "df_q.rename(columns={'q35 ':'q35'}, inplace=True)\n",
    "df_q.rename(columns={'q66 ':'q66'}, inplace=True)"
   ]
  },
  {
   "cell_type": "code",
   "execution_count": 7,
   "metadata": {},
   "outputs": [],
   "source": [
    "q = list(item.對應題目.unique())[0]\n",
    "count = item[item['對應題目']== q].子題名稱.count()"
   ]
  },
  {
   "cell_type": "code",
   "execution_count": 8,
   "metadata": {},
   "outputs": [],
   "source": [
    "def transdf(df, item):\n",
    "    df2 = pd.DataFrame()\n",
    "    for i in range(0,101):\n",
    "        q = list(item.對應題目.unique())[i]\n",
    "        count = item[item['對應題目']== q].子題名稱.count()\n",
    "        o = list(item[item['對應題目']== q].index)\n",
    "        df = df_q[[q]].replace(list(range(1,count-1))+[ 0, 99], list(item.iloc[o,3]))\n",
    "        df2 = pd.concat([df2, df], ignore_index= True, axis= 1)\n",
    "    df2.columns = list(item.調查品項.unique())\n",
    "    return df2"
   ]
  },
  {
   "cell_type": "code",
   "execution_count": 9,
   "metadata": {},
   "outputs": [],
   "source": [
    "df001 = transdf(df_q, item)"
   ]
  },
  {
   "cell_type": "code",
   "execution_count": 11,
   "metadata": {},
   "outputs": [
    {
     "data": {
      "text/html": [
       "<div>\n",
       "<style scoped>\n",
       "    .dataframe tbody tr th:only-of-type {\n",
       "        vertical-align: middle;\n",
       "    }\n",
       "\n",
       "    .dataframe tbody tr th {\n",
       "        vertical-align: top;\n",
       "    }\n",
       "\n",
       "    .dataframe thead th {\n",
       "        text-align: right;\n",
       "    }\n",
       "</style>\n",
       "<table border=\"1\" class=\"dataframe\">\n",
       "  <thead>\n",
       "    <tr style=\"text-align: right;\">\n",
       "      <th></th>\n",
       "      <th>行動電話系統業者</th>\n",
       "      <th>數據網路服務</th>\n",
       "      <th>房屋仲介</th>\n",
       "      <th>租車</th>\n",
       "      <th>快遞</th>\n",
       "      <th>加油站</th>\n",
       "      <th>連鎖咖啡店</th>\n",
       "      <th>連鎖藥妝店╱藥局</th>\n",
       "      <th>保全公司</th>\n",
       "      <th>直銷公司</th>\n",
       "      <th>...</th>\n",
       "      <th>拋棄式隱形眼鏡</th>\n",
       "      <th>隱形眼鏡藥水</th>\n",
       "      <th>維他命</th>\n",
       "      <th>感冒藥</th>\n",
       "      <th>嬰兒紙尿片╱褲</th>\n",
       "      <th>報紙</th>\n",
       "      <th>電視台</th>\n",
       "      <th>綜藝節目主持人</th>\n",
       "      <th>談話性節目主持人</th>\n",
       "      <th>政治人物</th>\n",
       "    </tr>\n",
       "  </thead>\n",
       "  <tbody>\n",
       "    <tr>\n",
       "      <th>0</th>\n",
       "      <td>中華電信</td>\n",
       "      <td>中華電信</td>\n",
       "      <td>信義</td>\n",
       "      <td>未填答</td>\n",
       "      <td>順豐</td>\n",
       "      <td>中油</td>\n",
       "      <td>星巴克</td>\n",
       "      <td>杏一</td>\n",
       "      <td>未填答</td>\n",
       "      <td>美樂家</td>\n",
       "      <td>...</td>\n",
       "      <td>帝康TICON</td>\n",
       "      <td>博士倫ReNu</td>\n",
       "      <td>未填答</td>\n",
       "      <td>普拿疼（伏冒）</td>\n",
       "      <td>大王GOON</td>\n",
       "      <td>自由時報</td>\n",
       "      <td>三立</td>\n",
       "      <td>蔡康永</td>\n",
       "      <td>陳文茜</td>\n",
       "      <td>馬英九</td>\n",
       "    </tr>\n",
       "    <tr>\n",
       "      <th>1</th>\n",
       "      <td>中華電信</td>\n",
       "      <td>中華電信</td>\n",
       "      <td>未填答</td>\n",
       "      <td>和運(和泰)</td>\n",
       "      <td>宅配通</td>\n",
       "      <td>中油</td>\n",
       "      <td>未填答</td>\n",
       "      <td>丁丁藥局</td>\n",
       "      <td>未填答</td>\n",
       "      <td>Amway安麗</td>\n",
       "      <td>...</td>\n",
       "      <td>未填答</td>\n",
       "      <td>未填答</td>\n",
       "      <td>善存Centrum</td>\n",
       "      <td>普拿疼（伏冒）</td>\n",
       "      <td>幫寶適Pampers(寶僑)</td>\n",
       "      <td>自由時報</td>\n",
       "      <td>三立</td>\n",
       "      <td>胡瓜</td>\n",
       "      <td>趙少康</td>\n",
       "      <td>賴清德</td>\n",
       "    </tr>\n",
       "    <tr>\n",
       "      <th>2</th>\n",
       "      <td>中華電信</td>\n",
       "      <td>中華電信</td>\n",
       "      <td>永慶</td>\n",
       "      <td>未填答</td>\n",
       "      <td>黑貓宅急便（統一速達）</td>\n",
       "      <td>中油</td>\n",
       "      <td>星巴克</td>\n",
       "      <td>啄木鳥</td>\n",
       "      <td>未填答</td>\n",
       "      <td>Amway安麗</td>\n",
       "      <td>...</td>\n",
       "      <td>未填答</td>\n",
       "      <td>未填答</td>\n",
       "      <td>善存Centrum</td>\n",
       "      <td>克風邪</td>\n",
       "      <td>妙而舒Merries(花王)</td>\n",
       "      <td>其他</td>\n",
       "      <td>民視</td>\n",
       "      <td>吳宗憲</td>\n",
       "      <td>鄭弘儀</td>\n",
       "      <td>賴清德</td>\n",
       "    </tr>\n",
       "    <tr>\n",
       "      <th>3</th>\n",
       "      <td>中華電信</td>\n",
       "      <td>中華電信</td>\n",
       "      <td>信義</td>\n",
       "      <td>未填答</td>\n",
       "      <td>UPS優比速</td>\n",
       "      <td>中油</td>\n",
       "      <td>星巴克</td>\n",
       "      <td>杏一</td>\n",
       "      <td>其他</td>\n",
       "      <td>NU SKIN</td>\n",
       "      <td>...</td>\n",
       "      <td>博士倫(舒服能)</td>\n",
       "      <td>博士倫ReNu</td>\n",
       "      <td>萊萃美Nature Made</td>\n",
       "      <td>普拿疼（伏冒）</td>\n",
       "      <td>好奇Huggies(Kleenex)</td>\n",
       "      <td>經濟日報</td>\n",
       "      <td>GTV八大</td>\n",
       "      <td>張小燕</td>\n",
       "      <td>鄭弘儀</td>\n",
       "      <td>馬英九</td>\n",
       "    </tr>\n",
       "    <tr>\n",
       "      <th>4</th>\n",
       "      <td>台灣大哥大</td>\n",
       "      <td>其他</td>\n",
       "      <td>台灣房屋</td>\n",
       "      <td>和運(和泰)</td>\n",
       "      <td>黑貓宅急便（統一速達）</td>\n",
       "      <td>中油</td>\n",
       "      <td>星巴克</td>\n",
       "      <td>屈臣氏</td>\n",
       "      <td>未填答</td>\n",
       "      <td>Amway安麗</td>\n",
       "      <td>...</td>\n",
       "      <td>視康(愛爾康)CIBA Vision</td>\n",
       "      <td>愛爾康ALCON</td>\n",
       "      <td>克補</td>\n",
       "      <td>普拿疼（伏冒）</td>\n",
       "      <td>幫寶適Pampers(寶僑)</td>\n",
       "      <td>蘋果日報</td>\n",
       "      <td>三立</td>\n",
       "      <td>陶晶瑩</td>\n",
       "      <td>劉寶傑</td>\n",
       "      <td>朱立倫</td>\n",
       "    </tr>\n",
       "  </tbody>\n",
       "</table>\n",
       "<p>5 rows × 101 columns</p>\n",
       "</div>"
      ],
      "text/plain": [
       "  行動電話系統業者 數據網路服務  房屋仲介      租車           快遞 加油站 連鎖咖啡店 連鎖藥妝店╱藥局 保全公司     直銷公司  \\\n",
       "0     中華電信   中華電信    信義     未填答           順豐  中油   星巴克       杏一  未填答      美樂家   \n",
       "1     中華電信   中華電信   未填答  和運(和泰)          宅配通  中油   未填答     丁丁藥局  未填答  Amway安麗   \n",
       "2     中華電信   中華電信    永慶     未填答  黑貓宅急便（統一速達）  中油   星巴克      啄木鳥  未填答  Amway安麗   \n",
       "3     中華電信   中華電信    信義     未填答       UPS優比速  中油   星巴克       杏一   其他  NU SKIN   \n",
       "4    台灣大哥大     其他  台灣房屋  和運(和泰)  黑貓宅急便（統一速達）  中油   星巴克      屈臣氏  未填答  Amway安麗   \n",
       "\n",
       "  ...              拋棄式隱形眼鏡    隱形眼鏡藥水             維他命     感冒藥   \\\n",
       "0 ...              帝康TICON   博士倫ReNu             未填答  普拿疼（伏冒）   \n",
       "1 ...                  未填答       未填答       善存Centrum  普拿疼（伏冒）   \n",
       "2 ...                  未填答       未填答       善存Centrum      克風邪   \n",
       "3 ...             博士倫(舒服能)   博士倫ReNu  萊萃美Nature Made  普拿疼（伏冒）   \n",
       "4 ...   視康(愛爾康)CIBA Vision  愛爾康ALCON              克補  普拿疼（伏冒）   \n",
       "\n",
       "              嬰兒紙尿片╱褲    報紙    電視台 綜藝節目主持人 談話性節目主持人 政治人物  \n",
       "0              大王GOON  自由時報     三立     蔡康永      陳文茜  馬英九  \n",
       "1      幫寶適Pampers(寶僑)  自由時報     三立      胡瓜      趙少康  賴清德  \n",
       "2      妙而舒Merries(花王)    其他     民視     吳宗憲      鄭弘儀  賴清德  \n",
       "3  好奇Huggies(Kleenex)  經濟日報  GTV八大     張小燕      鄭弘儀  馬英九  \n",
       "4      幫寶適Pampers(寶僑)  蘋果日報     三立     陶晶瑩      劉寶傑  朱立倫  \n",
       "\n",
       "[5 rows x 101 columns]"
      ]
     },
     "execution_count": 11,
     "metadata": {},
     "output_type": "execute_result"
    }
   ],
   "source": [
    "df001.head(3)"
   ]
  },
  {
   "cell_type": "markdown",
   "metadata": {},
   "source": [
    "# 建立各行業別名稱名稱"
   ]
  },
  {
   "cell_type": "code",
   "execution_count": 12,
   "metadata": {},
   "outputs": [],
   "source": [
    "#https://stackoverflow.com/questions/9232256/round-up-to-third-decimal-place-in-python\n",
    "from math import ceil, floor\n",
    "def float_round(num, places = 0, direction = floor):\n",
    "    return direction(num * (10**places)) / float(10**places)"
   ]
  },
  {
   "cell_type": "code",
   "execution_count": 13,
   "metadata": {},
   "outputs": [],
   "source": [
    "#inside.append('{}%'.format('%.1f' % (float_round(ind.iloc[j,0],3, ceil)*100/df_q.shape[0])))\n",
    "#inside.append('{}%'.format('%.1f' % (float_round(ind.iloc[3,0], 2, ceil)*100/df_q.shape[0])))"
   ]
  },
  {
   "cell_type": "code",
   "execution_count": 14,
   "metadata": {},
   "outputs": [],
   "source": [
    "inside = []\n",
    "for i in range(0,101): \n",
    "    colname = df001.columns[i]    \n",
    "    ind = pd.DataFrame(pd.value_counts(df001[colname].replace(['未填答','其他'],[np.NaN,np.NaN]).values, sort=True))\n",
    "    for j in range(3):        \n",
    "        inside.append(ind.index[j])\n",
    "        inside.append('%.1f' % (float_round(ind.iloc[j,0],3, ceil)*100/df_q.shape[0]))\n",
    "    if len(ind) > 4:\n",
    "        if ind.iloc[3,0] == ind.iloc[2,0]: \n",
    "            inside.append('{}(並列第三名)'.format(ind.index[3]))\n",
    "            inside.append('%.1f' % (float_round(ind.iloc[3,0], 2, ceil)*100/df_q.shape[0]))\n",
    "        else:\n",
    "            inside.append('無')\n",
    "            inside.append('--')\n",
    "    else:\n",
    "        inside.append('無')\n",
    "        inside.append('--')"
   ]
  },
  {
   "cell_type": "code",
   "execution_count": 16,
   "metadata": {},
   "outputs": [],
   "source": [
    "x = np.array(inside)\n",
    "x = x.reshape(101, 8)\n",
    "final2 = pd.DataFrame(x, columns=['第一名名稱', '第一名%','第二名名稱', '第二名%','第三名名稱', '第三名%','備註名稱', '備註%'])"
   ]
  },
  {
   "cell_type": "markdown",
   "metadata": {},
   "source": [
    "# 合併調查品項"
   ]
  },
  {
   "cell_type": "code",
   "execution_count": 17,
   "metadata": {},
   "outputs": [],
   "source": [
    "final1 = pd.DataFrame()\n",
    "final1['對應題目'] = list(df_q.columns)\n",
    "final1['調查品項'] = ['行動電話系統業者','數據網路服務', '房屋仲介','租車', '快遞', '加油站', '連鎖咖啡店', '連鎖藥妝店╱藥局',\n",
    " '保全公司', '直銷公司', '建設公司', '航空公司', '金控集團', '人壽保險', '產物保險', '銀行', '旅行社', '大型賣場', '電池', '染髮劑',\n",
    " '洗髮精', '沐浴乳', '一般刮鬍刀', '電動刮鬍刀', '男性洗面乳', '女性洗面乳', '女性內衣', '衛生棉', '電視機（液晶）', '冷氣╱空調', '洗衣機', '冰箱',\n",
    " '電子鍋(電鍋)', '空氣清淨機', '微波爐', '桌上型電腦', '筆記型電腦', '顯示器（Monitor）', '數位相機', '手機', 'GPS（衛星導航）硬體', '行車記錄器', '多功能事務機',\n",
    " '投影機', '吸塵器', '連鎖傢俱', '衛浴設備', '熱水器', '瓦斯爐', '抽油煙機', '淨水器', '果菜汁╱果汁', '鮮奶', '優酪乳', '碳酸氣泡飲料','運動飲料',\n",
    " '罐裝咖啡', '即溶咖啡', '茶飲料', '包裝水', '啤酒', '白蘭地', '威士忌', '速食麵', '成人奶粉', '嬰幼兒奶粉', '喉糖', '冰淇淋', '喜餅', '包裝米', '醬油', '雞精', '洗衣粉╱精', '洗碗精', '牙膏', '面紙',\n",
    " '衛生紙', '機車', '自行車', '輪胎', '房車', '休旅車', '運動鞋', '休閒服', '男鞋', '女鞋', '男錶', '女錶', '按摩椅', '血壓計', '體脂計',\n",
    " '拋棄式隱形眼鏡', '隱形眼鏡藥水', '維他命', '感冒藥', '嬰兒紙尿片╱褲', '報紙', '電視台', '綜藝節目主持人', '談話性節目主持人', '政治人物']"
   ]
  },
  {
   "cell_type": "code",
   "execution_count": 18,
   "metadata": {},
   "outputs": [],
   "source": [
    "final = pd.concat([final1, final2], ignore_index= False, axis= 1 ) "
   ]
  },
  {
   "cell_type": "code",
   "execution_count": 19,
   "metadata": {},
   "outputs": [
    {
     "data": {
      "text/plain": [
       "(101, 10)"
      ]
     },
     "execution_count": 19,
     "metadata": {},
     "output_type": "execute_result"
    }
   ],
   "source": [
    "final.shape"
   ]
  },
  {
   "cell_type": "code",
   "execution_count": 20,
   "metadata": {},
   "outputs": [],
   "source": [
    "for i in range(101):\n",
    "    if final.iloc[i,9] != '--':\n",
    "        final.iloc[i,9] = final.iloc[i,9] + '%'\n",
    "    else :\n",
    "        final.iloc[i,9] = final.iloc[i,9]"
   ]
  },
  {
   "cell_type": "code",
   "execution_count": 21,
   "metadata": {},
   "outputs": [],
   "source": [
    "#final.head(5)"
   ]
  },
  {
   "cell_type": "code",
   "execution_count": 22,
   "metadata": {},
   "outputs": [],
   "source": [
    "#final.to_csv('{}.csv'.format('中區-前三名'),encoding='utf-8')"
   ]
  },
  {
   "cell_type": "markdown",
   "metadata": {},
   "source": [
    "# [xlsx](https://xlsxwriter.readthedocs.io/)"
   ]
  },
  {
   "cell_type": "code",
   "execution_count": 23,
   "metadata": {},
   "outputs": [],
   "source": [
    "final[['第一名%', '第二名%', '第三名%']] = final[['第一名%', '第二名%', '第三名%']].astype('float')"
   ]
  },
  {
   "cell_type": "code",
   "execution_count": 24,
   "metadata": {},
   "outputs": [],
   "source": [
    "six = final[final['第一名%']>=60].sort_values(by='第一名%').drop('對應題目', axis = 1)\n",
    "fif_six = final[np.logical_and(final['第一名%']<60, final['第一名%']>=50)].sort_values(by='第一名%',ascending=0).drop('對應題目', axis = 1)\n",
    "four_fif = final[np.logical_and(final['第一名%']<50, final['第一名%']>=40)].sort_values(by='第一名%',ascending=0).drop('對應題目', axis = 1)\n",
    "third_four = final[np.logical_and(final['第一名%']<40, final['第一名%']>=30)].sort_values(by='第一名%',ascending=0).drop('對應題目', axis = 1)\n",
    "twen_third = final[np.logical_and(final['第一名%']<30, final['第一名%']>=20)].sort_values(by='第一名%',ascending=0).drop('對應題目', axis = 1)\n",
    "ten_twen = final[np.logical_and(final['第一名%']<20, final['第一名%']>=10)].sort_values(by='第一名%',ascending=0).drop('對應題目', axis = 1)"
   ]
  },
  {
   "cell_type": "code",
   "execution_count": 25,
   "metadata": {},
   "outputs": [],
   "source": [
    "percentage = [six, fif_six, four_fif, third_four, twen_third, ten_twen]\n",
    "for i in percentage:\n",
    "    i[['第一名%', '第二名%', '第三名%']] = i[['第一名%', '第二名%', '第三名%']].astype(str) + '%'"
   ]
  },
  {
   "cell_type": "markdown",
   "metadata": {},
   "source": [
    "# 心佔率存檔"
   ]
  },
  {
   "cell_type": "code",
   "execution_count": 26,
   "metadata": {},
   "outputs": [
    {
     "name": "stdout",
     "output_type": "stream",
     "text": [
      "1 6 13 27 48 90\n"
     ]
    }
   ],
   "source": [
    "step0 =1\n",
    "step1 = 1 + six.shape[0] +3\n",
    "step2 = step1 + fif_six.shape[0] + 3\n",
    "step3 = step2 + four_fif.shape[0] + 3\n",
    "step4 = step3 + third_four.shape[0] + 3\n",
    "step5 = step4 + twen_third.shape[0] + 3\n",
    "print(step0, step1, step2, step3, step4, step5)"
   ]
  },
  {
   "cell_type": "code",
   "execution_count": 27,
   "metadata": {},
   "outputs": [],
   "source": [
    "writer = pd.ExcelWriter('心占率(南區).xlsx', engine='xlsxwriter') \n",
    "\n",
    "six.to_excel(writer, sheet_name='Sheet1', startrow= step0, index=False)  \n",
    "fif_six.to_excel(writer, sheet_name='Sheet1', startrow= step1, index=False)\n",
    "four_fif.to_excel(writer, sheet_name='Sheet1', startrow= step2, index=False)\n",
    "third_four.to_excel(writer, sheet_name='Sheet1', startrow= step3 , index=False)\n",
    "twen_third.to_excel(writer, sheet_name='Sheet1', startrow= step4, index=False)\n",
    "ten_twen.to_excel(writer, sheet_name='Sheet1', startrow= step5, index=False)\n",
    "\n",
    "writer.save()"
   ]
  },
  {
   "cell_type": "code",
   "execution_count": 28,
   "metadata": {},
   "outputs": [
    {
     "name": "stderr",
     "output_type": "stream",
     "text": [
      "C:\\Users\\hahohy889\\AppData\\Roaming\\Python\\Python36\\site-packages\\ipykernel_launcher.py:4: DeprecationWarning: Call to deprecated function get_sheet_by_name (Use wb[sheetname]).\n",
      "  after removing the cwd from sys.path.\n"
     ]
    }
   ],
   "source": [
    "import openpyxl as px\n",
    "wb = px.load_workbook('心占率(南區).xlsx')\n",
    "ws = wb.active\n",
    "p = wb.get_sheet_by_name(name = 'Sheet1')\n",
    "ws['A{}'.format(step0)] = '第一名 60%以上廠商及該項的第二、第三名的心占率'\n",
    "ws['A{}'.format(step1)] = '第一名 50%-59%以上廠商及該項的第二、第三名的心占率'\n",
    "ws['A{}'.format(step2)] = '第一名 40%-49以上廠商及該項的第二、第三名的心占率'\n",
    "ws['A{}'.format(step3)] = '第一名 30%-39%以上廠商及該項的第二、第三名的心占率'\n",
    "ws['A{}'.format(step4)] = '第一名 20%-29%以上廠商及該項的第二、第三名的心占率'\n",
    "ws['A{}'.format(step5)] = '第一名 10%-19%以上廠商及該項的第二、第三名的心占率'\n",
    "wb.save('心占率(南區).xlsx')"
   ]
  },
  {
   "cell_type": "markdown",
   "metadata": {},
   "source": [
    "# 前三名存檔"
   ]
  },
  {
   "cell_type": "code",
   "execution_count": 29,
   "metadata": {},
   "outputs": [],
   "source": [
    "final[['第一名%', '第二名%', '第三名%']] = final[['第一名%', '第二名%', '第三名%']].astype(str) + '%'"
   ]
  },
  {
   "cell_type": "code",
   "execution_count": 30,
   "metadata": {},
   "outputs": [
    {
     "data": {
      "text/html": [
       "<div>\n",
       "<style scoped>\n",
       "    .dataframe tbody tr th:only-of-type {\n",
       "        vertical-align: middle;\n",
       "    }\n",
       "\n",
       "    .dataframe tbody tr th {\n",
       "        vertical-align: top;\n",
       "    }\n",
       "\n",
       "    .dataframe thead th {\n",
       "        text-align: right;\n",
       "    }\n",
       "</style>\n",
       "<table border=\"1\" class=\"dataframe\">\n",
       "  <thead>\n",
       "    <tr style=\"text-align: right;\">\n",
       "      <th></th>\n",
       "      <th>對應題目</th>\n",
       "      <th>調查品項</th>\n",
       "      <th>第一名名稱</th>\n",
       "      <th>第一名%</th>\n",
       "      <th>第二名名稱</th>\n",
       "      <th>第二名%</th>\n",
       "      <th>第三名名稱</th>\n",
       "      <th>第三名%</th>\n",
       "      <th>備註名稱</th>\n",
       "      <th>備註%</th>\n",
       "    </tr>\n",
       "  </thead>\n",
       "  <tbody>\n",
       "    <tr>\n",
       "      <th>0</th>\n",
       "      <td>q01</td>\n",
       "      <td>行動電話系統業者</td>\n",
       "      <td>中華電信</td>\n",
       "      <td>45.9%</td>\n",
       "      <td>台灣大哥大</td>\n",
       "      <td>22.3%</td>\n",
       "      <td>遠傳電信</td>\n",
       "      <td>19.5%</td>\n",
       "      <td>無</td>\n",
       "      <td>--</td>\n",
       "    </tr>\n",
       "    <tr>\n",
       "      <th>1</th>\n",
       "      <td>q02</td>\n",
       "      <td>數據網路服務</td>\n",
       "      <td>中華電信</td>\n",
       "      <td>58.6%</td>\n",
       "      <td>速博(Seednet)\\n/遠傳sparq寬頻</td>\n",
       "      <td>15.5%</td>\n",
       "      <td>亞太</td>\n",
       "      <td>2.7%</td>\n",
       "      <td>無</td>\n",
       "      <td>--</td>\n",
       "    </tr>\n",
       "    <tr>\n",
       "      <th>2</th>\n",
       "      <td>q03</td>\n",
       "      <td>房屋仲介</td>\n",
       "      <td>信義</td>\n",
       "      <td>28.6%</td>\n",
       "      <td>永慶</td>\n",
       "      <td>23.6%</td>\n",
       "      <td>住商</td>\n",
       "      <td>10.9%</td>\n",
       "      <td>無</td>\n",
       "      <td>--</td>\n",
       "    </tr>\n",
       "    <tr>\n",
       "      <th>3</th>\n",
       "      <td>q04</td>\n",
       "      <td>租車</td>\n",
       "      <td>和運(和泰)</td>\n",
       "      <td>33.2%</td>\n",
       "      <td>格上(裕隆)</td>\n",
       "      <td>27.7%</td>\n",
       "      <td>小馬</td>\n",
       "      <td>5.9%</td>\n",
       "      <td>無</td>\n",
       "      <td>--</td>\n",
       "    </tr>\n",
       "    <tr>\n",
       "      <th>4</th>\n",
       "      <td>q05</td>\n",
       "      <td>快遞</td>\n",
       "      <td>黑貓宅急便（統一速達）</td>\n",
       "      <td>55.0%</td>\n",
       "      <td>宅配通</td>\n",
       "      <td>11.4%</td>\n",
       "      <td>中華郵政</td>\n",
       "      <td>10.5%</td>\n",
       "      <td>無</td>\n",
       "      <td>--</td>\n",
       "    </tr>\n",
       "  </tbody>\n",
       "</table>\n",
       "</div>"
      ],
      "text/plain": [
       "  對應題目      調查品項        第一名名稱   第一名%                    第二名名稱   第二名% 第三名名稱  \\\n",
       "0  q01  行動電話系統業者         中華電信  45.9%                    台灣大哥大  22.3%  遠傳電信   \n",
       "1  q02    數據網路服務         中華電信  58.6%  速博(Seednet)\\n/遠傳sparq寬頻  15.5%    亞太   \n",
       "2  q03      房屋仲介           信義  28.6%                       永慶  23.6%    住商   \n",
       "3  q04        租車       和運(和泰)  33.2%                   格上(裕隆)  27.7%    小馬   \n",
       "4  q05        快遞  黑貓宅急便（統一速達）  55.0%                      宅配通  11.4%  中華郵政   \n",
       "\n",
       "    第三名% 備註名稱 備註%  \n",
       "0  19.5%    無  --  \n",
       "1   2.7%    無  --  \n",
       "2  10.9%    無  --  \n",
       "3   5.9%    無  --  \n",
       "4  10.5%    無  --  "
      ]
     },
     "execution_count": 30,
     "metadata": {},
     "output_type": "execute_result"
    }
   ],
   "source": [
    "final.head(5)"
   ]
  },
  {
   "cell_type": "code",
   "execution_count": 31,
   "metadata": {},
   "outputs": [],
   "source": [
    "#final.to_excel('{}.xlsx'.format('南區-前三名'),encoding='utf-8', index = False )"
   ]
  },
  {
   "cell_type": "code",
   "execution_count": 32,
   "metadata": {},
   "outputs": [],
   "source": [
    "diction = {'第一名 60%以上廠商及該項的第二、第三名的心占率' : six,\n",
    "           '第一名 50%-59%以上廠商及該項的第二、第三名的心占率': fif_six,\n",
    "           '第一名 40%-49以上廠商及該項的第二、第三名的心占率': four_fif,\n",
    "           '第一名 30%-39%以上廠商及該項的第二、第三名的心占率': third_four,\n",
    "           '第一名 20%-29%以上廠商及該項的第二、第三名的心占率': twen_third,\n",
    "           '第一名 10%-19%以上廠商及該項的第二、第三名的心占率': ten_twen}"
   ]
  },
  {
   "cell_type": "code",
   "execution_count": null,
   "metadata": {},
   "outputs": [],
   "source": []
  }
 ],
 "metadata": {
  "kernelspec": {
   "display_name": "Python 3",
   "language": "python",
   "name": "python3"
  },
  "language_info": {
   "codemirror_mode": {
    "name": "ipython",
    "version": 3
   },
   "file_extension": ".py",
   "mimetype": "text/x-python",
   "name": "python",
   "nbconvert_exporter": "python",
   "pygments_lexer": "ipython3",
   "version": "3.6.4"
  }
 },
 "nbformat": 4,
 "nbformat_minor": 2
}
